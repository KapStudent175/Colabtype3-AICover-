{
  "cells": [
    {
      "cell_type": "markdown",
      "metadata": {
        "id": "view-in-github",
        "colab_type": "text"
      },
      "source": [
        "<a href=\"https://colab.research.google.com/github/KapStudent175/Colabtype3-AICover-/blob/main/Model_Testing.ipynb\" target=\"_parent\"><img src=\"https://colab.research.google.com/assets/colab-badge.svg\" alt=\"Open In Colab\"/></a>"
      ]
    },
    {
      "cell_type": "code",
      "execution_count": null,
      "metadata": {
        "id": "0gQcIZ8RsOkn"
      },
      "outputs": [],
      "source": [
        "!nvidia-smi"
      ]
    },
    {
      "cell_type": "code",
      "source": [
        "!apt install git-lfs\n",
        "!git lfs install\n",
        "!git clone https://huggingface.co/spaces/sayashi/sovits-models\n",
        "%cd sovits-models"
      ],
      "metadata": {
        "id": "qGwRHGiYRSGv"
      },
      "execution_count": null,
      "outputs": []
    },
    {
      "cell_type": "code",
      "source": [
        "!wget -nc -P models/hare https://huggingface.co/HariUwU/Hare/resolve/main/hare.pth\n",
        "!wget -nc -P models/hare https://huggingface.co/HariUwU/Hare/resolve/main/cover.png\n",
        "!wget -nc -P models/hare https://huggingface.co/HariUwU/Hare/resolve/main/config.json\n",
        "\n",
        "!wget -nc -P models/yuuka https://huggingface.co/HariUwU/Yuuka/resolve/main/yuuka.pth\n",
        "!wget -nc -P models/yuuka https://huggingface.co/HariUwU/Yuuka/resolve/main/cover.png\n",
        "!wget -nc -P models/yuuka https://huggingface.co/HariUwU/Yuuka/resolve/main/config.json\n",
        "\n",
        "!wget -nc -P models/tenshi https://huggingface.co/HariUwU/Tenshi/resolve/main/tenshi.pth\n",
        "!wget -nc -P models/tenshi https://huggingface.co/HariUwU/Tenshi/resolve/main/config.json\n",
        "!wget -nc -P models/tenshi https://huggingface.co/HariUwU/Tenshi/resolve/main/cover.png\n",
        "\n",
        "!wget -nc -P models/hitler https://huggingface.co/HariUwU/someone/resolve/main/hitler.pth\n",
        "!wget -nc -P models/hitler https://huggingface.co/HariUwU/someone/resolve/main/cover.png\n",
        "!wget -nc -P models/hitler https://huggingface.co/HariUwU/someone/resolve/main/config.json"
      ],
      "metadata": {
        "id": "_-5ypsF4fwh9"
      },
      "execution_count": null,
      "outputs": []
    },
    {
      "cell_type": "code",
      "source": [
        "!python -m pip install -U pip wheel\n",
        "%pip install -U ipython "
      ],
      "metadata": {
        "id": "XPyIXNnORUz6"
      },
      "execution_count": null,
      "outputs": []
    },
    {
      "cell_type": "code",
      "source": [
        "%cd /content/sovits-models\n",
        "!pip install -r requirements.txt"
      ],
      "metadata": {
        "id": "TREXn0H9RWWV"
      },
      "execution_count": null,
      "outputs": []
    },
    {
      "cell_type": "code",
      "source": [
        "#@title Upload Audio(./raw)\n",
        "from google.colab import files\n",
        "import shutil\n",
        "import os\n",
        "if not os.path.exists(\"raw\"):\n",
        "  os.makedirs(\"raw\")\n",
        "uploaded = files.upload()\n",
        "for f in uploaded.keys():\n",
        "  shutil.move(f, f\"raw/{f}\")"
      ],
      "metadata": {
        "id": "QswfaEVxfh4b"
      },
      "execution_count": null,
      "outputs": []
    },
    {
      "cell_type": "code",
      "source": [
        "#@title Run\n",
        "!python app-slice.py --device cuda --share"
      ],
      "metadata": {
        "id": "5e7i3P1ySSbW"
      },
      "execution_count": null,
      "outputs": []
    }
  ],
  "metadata": {
    "accelerator": "GPU",
    "colab": {
      "provenance": [],
      "private_outputs": true,
      "gpuType": "T4",
      "include_colab_link": true
    },
    "gpuClass": "standard",
    "kernelspec": {
      "display_name": "Python 3",
      "name": "python3"
    },
    "language_info": {
      "name": "python"
    }
  },
  "nbformat": 4,
  "nbformat_minor": 0
}